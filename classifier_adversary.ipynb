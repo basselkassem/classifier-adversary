{
  "nbformat": 4,
  "nbformat_minor": 0,
  "metadata": {
    "colab": {
      "name": "classifier-adversary",
      "provenance": [],
      "toc_visible": true,
      "authorship_tag": "ABX9TyM7Tyh5edpHTqb7vQv4vpjB",
      "include_colab_link": true
    },
    "kernelspec": {
      "name": "python3",
      "display_name": "Python 3"
    }
  },
  "cells": [
    {
      "cell_type": "markdown",
      "metadata": {
        "id": "view-in-github",
        "colab_type": "text"
      },
      "source": [
        "<a href=\"https://colab.research.google.com/github/basselkassem/classifier-adversary/blob/master/classifier_adversary.ipynb\" target=\"_parent\"><img src=\"https://colab.research.google.com/assets/colab-badge.svg\" alt=\"Open In Colab\"/></a>"
      ]
    },
    {
      "cell_type": "markdown",
      "metadata": {
        "id": "1rrH5tMOMAoA",
        "colab_type": "text"
      },
      "source": [
        "This notebook is inspired by the paper [Decorrelated Jet Substructure Tagging using Adversarial Neural Networks](https://arxiv.org/abs/1703.03507).\n",
        "\n",
        "We illustrate how to use the Adversarial Neural Network to decouple a classifier response from the values of its input features.\n",
        "In other words, we are interested in making the output of a classifier not dependent on the value distribution of the input features. \n",
        "This property is useful to reduce the uncertainty about the effect of the input's features on the classifier's output.\n",
        "Although this approach reduces the discriminative power of the classifier, but it keeps a relatively good performance.\n"
      ]
    },
    {
      "cell_type": "markdown",
      "metadata": {
        "id": "q3qeJz6ZScHv",
        "colab_type": "text"
      },
      "source": [
        "# Import Libs"
      ]
    },
    {
      "cell_type": "code",
      "metadata": {
        "id": "m4GfzsvXQk-D",
        "colab_type": "code",
        "colab": {}
      },
      "source": [
        "import pandas as pd\n",
        "import numpy as np\n",
        "import matplotlib.pyplot as plt\n",
        "\n",
        "%matplotlib inline"
      ],
      "execution_count": null,
      "outputs": []
    },
    {
      "cell_type": "code",
      "metadata": {
        "id": "E0BXVEsgQ4Xy",
        "colab_type": "code",
        "colab": {}
      },
      "source": [
        "import tensorflow as tf\n",
        "from tensorflow.keras.models import Model\n",
        "from tensorflow.keras.losses import CategoricalCrossEntropy\n",
        "\n",
        "print(tf.__version__)"
      ],
      "execution_count": null,
      "outputs": []
    },
    {
      "cell_type": "markdown",
      "metadata": {
        "id": "hyTU5V65SaSd",
        "colab_type": "text"
      },
      "source": [
        "# Load Data"
      ]
    },
    {
      "cell_type": "code",
      "metadata": {
        "id": "e69Vel41SZP1",
        "colab_type": "code",
        "colab": {}
      },
      "source": [
        ""
      ],
      "execution_count": null,
      "outputs": []
    },
    {
      "cell_type": "markdown",
      "metadata": {
        "id": "ic62pgbVTJYF",
        "colab_type": "text"
      },
      "source": [
        "## Data Preprocessing"
      ]
    },
    {
      "cell_type": "code",
      "metadata": {
        "id": "UHrv1h1uVKWE",
        "colab_type": "code",
        "colab": {}
      },
      "source": [
        ""
      ],
      "execution_count": null,
      "outputs": []
    },
    {
      "cell_type": "markdown",
      "metadata": {
        "id": "FANMH9-jSmO_",
        "colab_type": "text"
      },
      "source": [
        "# Classifier Definition"
      ]
    },
    {
      "cell_type": "code",
      "metadata": {
        "id": "IFuTeCrbLlyK",
        "colab_type": "code",
        "colab": {}
      },
      "source": [
        "class Classifier(Model):\n",
        "  def __init__(self, ):\n",
        "    super(Model, self).__init__()\n",
        "\n",
        "  def __call__(self, ):\n",
        "    pass\n"
      ],
      "execution_count": null,
      "outputs": []
    },
    {
      "cell_type": "markdown",
      "metadata": {
        "id": "h4mN81ghSqDF",
        "colab_type": "text"
      },
      "source": [
        "# Adversary Definition"
      ]
    },
    {
      "cell_type": "code",
      "metadata": {
        "id": "OjmpR7WhRuS2",
        "colab_type": "code",
        "colab": {}
      },
      "source": [
        "class Adversary(Model):\n",
        "  def __init__(self, ):\n",
        "    super(Model, self).__init__()\n",
        "    \n",
        "  def __call__(self, ):\n",
        "    pass"
      ],
      "execution_count": null,
      "outputs": []
    },
    {
      "cell_type": "markdown",
      "metadata": {
        "id": "ERoTk-GkS_o8",
        "colab_type": "text"
      },
      "source": [
        "# Classifier-Adversary Definition"
      ]
    },
    {
      "cell_type": "markdown",
      "metadata": {
        "id": "NcqCR4MSS3ce",
        "colab_type": "text"
      },
      "source": [
        "# Optimizers"
      ]
    },
    {
      "cell_type": "markdown",
      "metadata": {
        "id": "Lif692UgSuFG",
        "colab_type": "text"
      },
      "source": [
        "# Loss Functions"
      ]
    },
    {
      "cell_type": "markdown",
      "metadata": {
        "id": "7RqtELJ6Vcxy",
        "colab_type": "text"
      },
      "source": [
        "# Training"
      ]
    },
    {
      "cell_type": "markdown",
      "metadata": {
        "id": "i0rXY9SYVf3z",
        "colab_type": "text"
      },
      "source": [
        "# Evaluation"
      ]
    },
    {
      "cell_type": "code",
      "metadata": {
        "id": "NEAlECTCSwKD",
        "colab_type": "code",
        "colab": {}
      },
      "source": [
        ""
      ],
      "execution_count": null,
      "outputs": []
    }
  ]
}